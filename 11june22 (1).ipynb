{
 "cells": [
  {
   "cell_type": "code",
   "execution_count": 2,
   "id": "51ea0269",
   "metadata": {},
   "outputs": [
    {
     "data": {
      "text/plain": [
       "('india', 'noida', 'delhi')"
      ]
     },
     "execution_count": 2,
     "metadata": {},
     "output_type": "execute_result"
    }
   ],
   "source": [
    "location=('india','noida','delhi')\n",
    "location"
   ]
  },
  {
   "cell_type": "code",
   "execution_count": 3,
   "id": "fef31dc6",
   "metadata": {},
   "outputs": [
    {
     "data": {
      "text/plain": [
       "tuple"
      ]
     },
     "execution_count": 3,
     "metadata": {},
     "output_type": "execute_result"
    }
   ],
   "source": [
    "type(location)"
   ]
  },
  {
   "cell_type": "code",
   "execution_count": 4,
   "id": "1538c086",
   "metadata": {},
   "outputs": [
    {
     "data": {
      "text/plain": [
       "(20000, 43000, 57000)"
      ]
     },
     "execution_count": 4,
     "metadata": {},
     "output_type": "execute_result"
    }
   ],
   "source": [
    "emp_salary=(20000,43000,57000)\n",
    "emp_salary"
   ]
  },
  {
   "cell_type": "code",
   "execution_count": 5,
   "id": "40b0cb94",
   "metadata": {},
   "outputs": [
    {
     "data": {
      "text/plain": [
       "['india', 'noida', 'delhi']"
      ]
     },
     "execution_count": 5,
     "metadata": {},
     "output_type": "execute_result"
    }
   ],
   "source": [
    "location=list(location)\n",
    "location"
   ]
  },
  {
   "cell_type": "code",
   "execution_count": 6,
   "id": "f8466e6f",
   "metadata": {},
   "outputs": [
    {
     "data": {
      "text/plain": [
       "type"
      ]
     },
     "execution_count": 6,
     "metadata": {},
     "output_type": "execute_result"
    }
   ],
   "source": [
    "type"
   ]
  },
  {
   "cell_type": "code",
   "execution_count": 7,
   "id": "5d72ffff",
   "metadata": {},
   "outputs": [
    {
     "data": {
      "text/plain": [
       "list"
      ]
     },
     "execution_count": 7,
     "metadata": {},
     "output_type": "execute_result"
    }
   ],
   "source": [
    "type(location)"
   ]
  },
  {
   "cell_type": "code",
   "execution_count": 8,
   "id": "7d814b4f",
   "metadata": {},
   "outputs": [
    {
     "data": {
      "text/plain": [
       "['india', 'kolkata', 'delhi']"
      ]
     },
     "execution_count": 8,
     "metadata": {},
     "output_type": "execute_result"
    }
   ],
   "source": [
    "location[1]='kolkata'\n",
    "location"
   ]
  },
  {
   "cell_type": "code",
   "execution_count": 9,
   "id": "123bfc21",
   "metadata": {},
   "outputs": [
    {
     "data": {
      "text/plain": [
       "3"
      ]
     },
     "execution_count": 9,
     "metadata": {},
     "output_type": "execute_result"
    }
   ],
   "source": [
    "len(location)"
   ]
  },
  {
   "cell_type": "code",
   "execution_count": 10,
   "id": "ca0b9aff",
   "metadata": {},
   "outputs": [
    {
     "data": {
      "text/plain": [
       "'delhi'"
      ]
     },
     "execution_count": 10,
     "metadata": {},
     "output_type": "execute_result"
    }
   ],
   "source": [
    "location[2]"
   ]
  },
  {
   "cell_type": "code",
   "execution_count": 11,
   "id": "b07de24e",
   "metadata": {},
   "outputs": [
    {
     "data": {
      "text/plain": [
       "<function list.count(value, /)>"
      ]
     },
     "execution_count": 11,
     "metadata": {},
     "output_type": "execute_result"
    }
   ],
   "source": [
    "location.count"
   ]
  },
  {
   "cell_type": "code",
   "execution_count": 12,
   "id": "f94e2704",
   "metadata": {},
   "outputs": [
    {
     "data": {
      "text/plain": [
       "[22, 34, 54, 65, 75]"
      ]
     },
     "execution_count": 12,
     "metadata": {},
     "output_type": "execute_result"
    }
   ],
   "source": [
    "numbers=[22,34,54,65,75]\n",
    "numbers"
   ]
  },
  {
   "cell_type": "code",
   "execution_count": 15,
   "id": "b6e31bab",
   "metadata": {},
   "outputs": [
    {
     "data": {
      "text/plain": [
       "2"
      ]
     },
     "execution_count": 15,
     "metadata": {},
     "output_type": "execute_result"
    }
   ],
   "source": [
    "numbers.index(54)"
   ]
  },
  {
   "cell_type": "code",
   "execution_count": 16,
   "id": "ff14eeec",
   "metadata": {},
   "outputs": [
    {
     "data": {
      "text/plain": [
       "1"
      ]
     },
     "execution_count": 16,
     "metadata": {},
     "output_type": "execute_result"
    }
   ],
   "source": [
    "numbers.count(54)"
   ]
  },
  {
   "cell_type": "code",
   "execution_count": 17,
   "id": "8a21fa89",
   "metadata": {},
   "outputs": [],
   "source": [
    "roll_numbers=set()"
   ]
  },
  {
   "cell_type": "code",
   "execution_count": 18,
   "id": "54e3bec3",
   "metadata": {},
   "outputs": [
    {
     "data": {
      "text/plain": [
       "set"
      ]
     },
     "execution_count": 18,
     "metadata": {},
     "output_type": "execute_result"
    }
   ],
   "source": [
    "type(roll_numbers)"
   ]
  },
  {
   "cell_type": "code",
   "execution_count": 19,
   "id": "44c31b2b",
   "metadata": {},
   "outputs": [
    {
     "data": {
      "text/plain": [
       "{1}"
      ]
     },
     "execution_count": 19,
     "metadata": {},
     "output_type": "execute_result"
    }
   ],
   "source": [
    "roll_numbers.add(1)\n",
    "roll_numbers"
   ]
  },
  {
   "cell_type": "code",
   "execution_count": 20,
   "id": "749fcaf7",
   "metadata": {},
   "outputs": [
    {
     "data": {
      "text/plain": [
       "{1, 2}"
      ]
     },
     "execution_count": 20,
     "metadata": {},
     "output_type": "execute_result"
    }
   ],
   "source": [
    "roll_numbers.add(2)\n",
    "roll_numbers"
   ]
  },
  {
   "cell_type": "code",
   "execution_count": 23,
   "id": "df78c5bf",
   "metadata": {},
   "outputs": [],
   "source": [
    "remove_dups=[4,5,6,7,8,6,4,3,2,3,5,6,7,5]"
   ]
  },
  {
   "cell_type": "code",
   "execution_count": 26,
   "id": "10621825",
   "metadata": {},
   "outputs": [
    {
     "data": {
      "text/plain": [
       "{2, 3, 4, 5, 6, 7, 8}"
      ]
     },
     "execution_count": 26,
     "metadata": {},
     "output_type": "execute_result"
    }
   ],
   "source": [
    "dum_removed= set(remove_dump)\n",
    "dum_removed"
   ]
  },
  {
   "cell_type": "code",
   "execution_count": 27,
   "id": "d802d38a",
   "metadata": {},
   "outputs": [
    {
     "data": {
      "text/plain": [
       "[4, 5, 6, 7, 8, 6, 4, 3, 2, 3, 5, 6, 7, 5]"
      ]
     },
     "execution_count": 27,
     "metadata": {},
     "output_type": "execute_result"
    }
   ],
   "source": [
    "dum_removed= list(remove_dump)\n",
    "dum_removed"
   ]
  },
  {
   "cell_type": "code",
   "execution_count": 28,
   "id": "f8e3c5d7",
   "metadata": {},
   "outputs": [],
   "source": [
    "my_dict = {'key1':'value1','key2':'value2'}"
   ]
  },
  {
   "cell_type": "code",
   "execution_count": 29,
   "id": "12451943",
   "metadata": {},
   "outputs": [
    {
     "data": {
      "text/plain": [
       "{'key1': 'value1', 'key2': 'value2'}"
      ]
     },
     "execution_count": 29,
     "metadata": {},
     "output_type": "execute_result"
    }
   ],
   "source": [
    "my_dict"
   ]
  },
  {
   "cell_type": "code",
   "execution_count": 30,
   "id": "02471d10",
   "metadata": {},
   "outputs": [
    {
     "data": {
      "text/plain": [
       "'value2'"
      ]
     },
     "execution_count": 30,
     "metadata": {},
     "output_type": "execute_result"
    }
   ],
   "source": [
    "my_dict['key2']"
   ]
  },
  {
   "cell_type": "code",
   "execution_count": 31,
   "id": "40415c8b",
   "metadata": {},
   "outputs": [],
   "source": [
    "my_dict = {'roll_number':123,'marks':[12,23,33],'subject':['computer','science','maths']}"
   ]
  },
  {
   "cell_type": "code",
   "execution_count": 32,
   "id": "e1a54b2f",
   "metadata": {},
   "outputs": [
    {
     "data": {
      "text/plain": [
       "{'roll_number': 123,\n",
       " 'marks': [12, 23, 33],\n",
       " 'subject': ['computer', 'science', 'maths']}"
      ]
     },
     "execution_count": 32,
     "metadata": {},
     "output_type": "execute_result"
    }
   ],
   "source": [
    "my_dict"
   ]
  },
  {
   "cell_type": "code",
   "execution_count": 35,
   "id": "8a6eea7d",
   "metadata": {},
   "outputs": [
    {
     "data": {
      "text/plain": [
       "[12, 23, 33]"
      ]
     },
     "execution_count": 35,
     "metadata": {},
     "output_type": "execute_result"
    }
   ],
   "source": [
    "my_dict['marks']"
   ]
  },
  {
   "cell_type": "code",
   "execution_count": 38,
   "id": "46efd88e",
   "metadata": {},
   "outputs": [
    {
     "data": {
      "text/plain": [
       "['computer', 'science', 'maths']"
      ]
     },
     "execution_count": 38,
     "metadata": {},
     "output_type": "execute_result"
    }
   ],
   "source": [
    "my_dict['subject']"
   ]
  },
  {
   "cell_type": "code",
   "execution_count": 39,
   "id": "f2783683",
   "metadata": {},
   "outputs": [
    {
     "data": {
      "text/plain": [
       "'COMPUTER'"
      ]
     },
     "execution_count": 39,
     "metadata": {},
     "output_type": "execute_result"
    }
   ],
   "source": [
    "my_dict['subject'][0].upper()"
   ]
  },
  {
   "cell_type": "code",
   "execution_count": 42,
   "id": "3003344f",
   "metadata": {},
   "outputs": [],
   "source": [
    "my_dict['marks'][0]=my_dict['marks'][0]+30"
   ]
  },
  {
   "cell_type": "code",
   "execution_count": 43,
   "id": "d214be2e",
   "metadata": {},
   "outputs": [
    {
     "data": {
      "text/plain": [
       "[42, 23, 33]"
      ]
     },
     "execution_count": 43,
     "metadata": {},
     "output_type": "execute_result"
    }
   ],
   "source": [
    "my_dict['marks']"
   ]
  },
  {
   "cell_type": "code",
   "execution_count": 50,
   "id": "74c95c7a",
   "metadata": {},
   "outputs": [],
   "source": [
    "my_dict['marks'][2] -= 3"
   ]
  },
  {
   "cell_type": "code",
   "execution_count": 51,
   "id": "f82bb25c",
   "metadata": {},
   "outputs": [
    {
     "data": {
      "text/plain": [
       "[42, 23, 677]"
      ]
     },
     "execution_count": 51,
     "metadata": {},
     "output_type": "execute_result"
    }
   ],
   "source": [
    "my_dict['marks']"
   ]
  },
  {
   "cell_type": "code",
   "execution_count": 52,
   "id": "9cd0fe34",
   "metadata": {},
   "outputs": [],
   "source": [
    "my_dict['year'] = '3rd'"
   ]
  },
  {
   "cell_type": "code",
   "execution_count": 53,
   "id": "64e1964a",
   "metadata": {},
   "outputs": [
    {
     "data": {
      "text/plain": [
       "{'roll_number': 123,\n",
       " 'marks': [42, 23, 677],\n",
       " 'subject': [42, 'science', 'maths'],\n",
       " 'year': '3rd'}"
      ]
     },
     "execution_count": 53,
     "metadata": {},
     "output_type": "execute_result"
    }
   ],
   "source": [
    "my_dict"
   ]
  },
  {
   "cell_type": "code",
   "execution_count": 54,
   "id": "0905736f",
   "metadata": {},
   "outputs": [],
   "source": [
    "my_dict.update({'roll_number':100})"
   ]
  },
  {
   "cell_type": "code",
   "execution_count": 55,
   "id": "85f1f8e0",
   "metadata": {},
   "outputs": [
    {
     "data": {
      "text/plain": [
       "{'roll_number': 100,\n",
       " 'marks': [42, 23, 677],\n",
       " 'subject': [42, 'science', 'maths'],\n",
       " 'year': '3rd'}"
      ]
     },
     "execution_count": 55,
     "metadata": {},
     "output_type": "execute_result"
    }
   ],
   "source": [
    "my_dict"
   ]
  },
  {
   "cell_type": "code",
   "execution_count": 57,
   "id": "e0aa1108",
   "metadata": {},
   "outputs": [
    {
     "data": {
      "text/plain": [
       "dict_items([('roll_number', 100), ('marks', [42, 23, 677]), ('subject', [42, 'science', 'maths']), ('year', '3rd')])"
      ]
     },
     "execution_count": 57,
     "metadata": {},
     "output_type": "execute_result"
    }
   ],
   "source": [
    "my_dict.items()"
   ]
  },
  {
   "cell_type": "code",
   "execution_count": 58,
   "id": "30b316be",
   "metadata": {},
   "outputs": [
    {
     "data": {
      "text/plain": [
       "dict_keys(['roll_number', 'marks', 'subject', 'year'])"
      ]
     },
     "execution_count": 58,
     "metadata": {},
     "output_type": "execute_result"
    }
   ],
   "source": [
    "my_dict.keys()"
   ]
  },
  {
   "cell_type": "code",
   "execution_count": null,
   "id": "6636ef84",
   "metadata": {},
   "outputs": [],
   "source": []
  }
 ],
 "metadata": {
  "kernelspec": {
   "display_name": "Python 3 (ipykernel)",
   "language": "python",
   "name": "python3"
  },
  "language_info": {
   "codemirror_mode": {
    "name": "ipython",
    "version": 3
   },
   "file_extension": ".py",
   "mimetype": "text/x-python",
   "name": "python",
   "nbconvert_exporter": "python",
   "pygments_lexer": "ipython3",
   "version": "3.9.12"
  }
 },
 "nbformat": 4,
 "nbformat_minor": 5
}
